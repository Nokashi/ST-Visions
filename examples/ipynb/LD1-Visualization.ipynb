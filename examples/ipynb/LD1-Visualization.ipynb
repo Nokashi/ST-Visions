{
 "cells": [
  {
   "cell_type": "markdown",
   "metadata": {},
   "source": [
    "# 🗺️ ST-Visions Live Demo 1: Introduction and Plain Visualization \n",
    "\n",
    "This is a live demonstration of **ST-Visions**, a Python library for interactive and customizable spatio-temporal visualizations using [Bokeh](https://docs.bokeh.org/). The main purpose of this notebook is to visualize the core functions of the library and introduce the bread-and-butter functions that are used for all the use cases\n",
    "\n",
    "The focus of this notebook will be the following\n",
    "\n",
    "- Visualizing a Basic Geometry Dataset, showcasing the steps to generate a figure using the library\n",
    "- Using Filters on the figure, one a time or multiple together\n",
    "- A Note Towards (Multi)-Polygon Visualization, which will be built further on the 3rd Live Demo (Advanced Use-Cases)\n",
    "\n",
    "\n",
    "## Library Imports / Initialization\n",
    "\n",
    "For the purposes of this demo, the following libraries will be imported, this includes the the extra py files of the library that work like modules\n",
    "\n",
    "- express is a fast track module for plotting that wraps many functions and lets you generate figures out the box\n",
    "- geom_helper as the name implies helps with the geometry handling, more apparent in more advanced usecases whenever polygon or multi polygon geometry is concerned\n",
    "\n",
    "\n",
    "The rest of the libraries are the core requirements of the library and they allow geospatial data handling and interactive visualizations\n",
    "\n",
    "*Note*: the notebook contains tools needed for development as the upgrade of the library is a work in progress, this dev config allows faster development and debugging, allowing in-VSC bokeh calls and auto library reload on changes\n"
   ]
  },
  {
   "cell_type": "code",
   "execution_count": 1,
   "metadata": {},
   "outputs": [],
   "source": [
    "import sys, os\n",
    "\n",
    "# ===== DEV ENVIROMENT CONFIGURATION (TEMPORARY) =====\n",
    "\n",
    "%load_ext autoreload\n",
    "%autoreload 2\n",
    "sys.path.append(os.path.abspath('../..')) # Ideally ST_Visions will be installed as a module, therefore this is more of a development setting for quick testing.\n",
    "os.environ[\"BOKEH_ALLOW_WS_ORIGIN\"] = \"*\" # DEV ENVIROMENT BANDAID FOR VSCODE VISUALIZATIONS, will be edited\n",
    "\n",
    "# =====================================================\n",
    "\n",
    "import pandas as pd\n",
    "import geopandas as gpd\n",
    "import shapely\n",
    "import bokeh.models as bokeh_models\n",
    "from st_visions.st_visualizer import st_visualizer\n",
    "import st_visions.express as viz_express\n",
    "import st_visions.geom_helper as viz_helper"
   ]
  },
  {
   "cell_type": "markdown",
   "metadata": {},
   "source": [
    "If the jupyter notebook is hosted locally, the default parameter of every notebook visualization function call is set as `localhost:localport`. If you are working with a remote server, you can set your server url in the configuration variable below (`NOTEBOOK_URL`) "
   ]
  },
  {
   "cell_type": "code",
   "execution_count": null,
   "metadata": {},
   "outputs": [],
   "source": [
    "NOTEBOOK_URL='http://<NOTEBOOK_IP_ADDRESS>:<NOTEBOOK_PORT>' # add your own server address"
   ]
  },
  {
   "cell_type": "markdown",
   "metadata": {},
   "source": [
    "##  Simple Geometry Dataset: Visualizing Vessel Movement Data with ST_Visions\n",
    "\n",
    "This section will show a step by step implementation of a simple problem that the ST Vision library handles, Visualizing a simple Geometry Dataset, meaning a dataset that contains 1-dimensional points\n",
    "\n",
    "For the purpose of this notebook example, the Piraeus AIS Dataset will be used. To be precise, the December 2017 AIS Snapshot will be loaded \n",
    "\n",
    "[1] https://zenodo.org/records/6323416#.YnwPPi8RrAA\n",
    "\n",
    "\n",
    "\n",
    "### Initialize and populate a VISIONS Instance\n",
    "\n",
    "The core of the ST_Visions library lies in the instantiation of a VISIONS instance using the st_visualizer class and then populating with a csv. The CSV is parsed as a GeoDataFrame for the geospatial visualization purposes. For the demonstration, we will be limited to 10.000 records from the dataset"
   ]
  },
  {
   "cell_type": "code",
   "execution_count": null,
   "metadata": {},
   "outputs": [
    {
     "ename": "",
     "evalue": "",
     "output_type": "error",
     "traceback": [
      "\u001b[1;31mThe Kernel crashed while executing code in the current cell or a previous cell. \n",
      "\u001b[1;31mPlease review the code in the cell(s) to identify a possible cause of the failure. \n",
      "\u001b[1;31mClick <a href='https://aka.ms/vscodeJupyterKernelCrash'>here</a> for more info. \n",
      "\u001b[1;31mView Jupyter <a href='command:jupyter.viewOutput'>log</a> for further details."
     ]
    }
   ],
   "source": [
    "st_viz = st_visualizer(limit=5000) # Initialize a VISIONS Instance (ST Visualizer Object)\n",
    "st_viz.get_data_csv(filepath=r'..\\..\\data\\unipi_ais_dynamic_2017\\unipi_ais_dynamic_dec2017.csv', nrows=10000)"
   ]
  },
  {
   "cell_type": "markdown",
   "metadata": {},
   "source": [
    "### Create a canvas \n",
    "\n",
    "Next step is the creation of a bokeh-based canvas for the VISIONS instance. The Canvas creation function is equipped with arguments that equip the function with extra customizability (tools, tile provider, sizing mode, size etc)\n",
    "\n",
    "Extra keyword arguments pertaining to the WMTSTileSource instance for the map tile provider can be passed through the tile_kwargs dictionary parameter (defaults to an empty dict)\n",
    "\n",
    "Extra keyword arguments pertaining to the ***figure*** class in bokeh can be passed as a dictionary, more information [here](https://docs.bokeh.org/en/latest/docs/reference/plotting/figure.html#bokeh.plotting.figure)"
   ]
  },
  {
   "cell_type": "code",
   "execution_count": null,
   "metadata": {},
   "outputs": [],
   "source": [
    "st_viz.create_canvas(title=f'Prototype Plot', tile_provider=\"CARTODBPOSITRON\", sizing_mode='scale_width', height=540, tools=\"pan, box_zoom, lasso_select, wheel_zoom, hover, save, reset\")"
   ]
  },
  {
   "cell_type": "markdown",
   "metadata": {},
   "source": [
    "### Add Markers \n",
    "\n",
    "using the add_marker function, we can add markers to the points of the records present in the csv we loaded. Vessel Positions are mapped as blue circles with customizable size, marker type, trasparency, legend label etc"
   ]
  },
  {
   "cell_type": "code",
   "execution_count": null,
   "metadata": {},
   "outputs": [],
   "source": [
    "circ = st_viz.add_marker(marker='circle', size=10, color='royalblue', alpha=0.7, fill_alpha=0.5, muted_alpha=0, legend_label=f'Vessel GPS Locations')"
   ]
  },
  {
   "cell_type": "markdown",
   "metadata": {},
   "source": [
    "### Configure Tooltips, Legend and Selection"
   ]
  },
  {
   "cell_type": "code",
   "execution_count": null,
   "metadata": {},
   "outputs": [],
   "source": [
    "tooltips = [('Vessel ID','@vessel_id'), ('Timestamp','@t'), ('Speed (knots)','@speed'),\n",
    "            ('Course over Ground (degrees)','@course'), ('Heading (degrees)','@heading'), ('Coordinates','(@lon, @lat)')]\n",
    "\n",
    "st_viz.add_hover_tooltips(tooltips)\n",
    "st_viz.add_lasso_select()\n",
    "\n",
    "st_viz.figure.legend.location = \"top_left\"\n",
    "st_viz.figure.legend.click_policy = \"mute\"\n",
    "st_viz.figure.toolbar.active_scroll = st_viz.figure.select_one(bokeh_models.WheelZoomTool)"
   ]
  },
  {
   "cell_type": "markdown",
   "metadata": {},
   "source": [
    "### Display in Notebook\n",
    "\n",
    "Renders the interactive plot directly within the Jupyter notebook with responsive sizing."
   ]
  },
  {
   "cell_type": "code",
   "execution_count": null,
   "metadata": {},
   "outputs": [],
   "source": [
    "st_viz.show_figures(notebook=True, height=300, width=300, sizing_mode='stretch_both')"
   ]
  },
  {
   "cell_type": "markdown",
   "metadata": {},
   "source": [
    "## Filtering Vessel Movement Data\n",
    "\n",
    "The ST_Visions library provides intuitive and flexible filtering capabilities to subset spatial-temporal data for focused analysis. Filters can be applied on numerical, temporal, or categorical columns before visualizing or processing.\n",
    "\n",
    "To showcase the Filters, the **express** module will be used which fast-tracks the plotting \n",
    "\n",
    "### Temporal Filtering\n",
    "\n",
    "Easily filter records based on timestamps present in the dataset's timestamp column "
   ]
  },
  {
   "cell_type": "code",
   "execution_count": null,
   "metadata": {},
   "outputs": [],
   "source": [
    "st_viz = st_visualizer(limit=1000) # Initialize a VISIONS Instance (ST Visualizer Object)\n",
    "st_viz.get_data_csv(filepath=r'..\\..\\data\\unipi_ais_dynamic_2017\\unipi_ais_dynamic_dec2017.csv', nrows=10000)\n",
    "\n",
    "tooltips = [('Vessel ID','@vessel_id'), ('Timestamp','@t'), ('Speed (knots)','@speed'),\n",
    "            ('Course over Ground (degrees)','@course'), ('Heading (degrees)','@heading'), ('Coordinates','(@lon, @lat)')]\n",
    "\n",
    "viz_express.plot_points_on_map(st_viz, tile_provider='CARTODBPOSITRON', tools=['lasso_select'], tooltips=tooltips)"
   ]
  },
  {
   "cell_type": "code",
   "execution_count": null,
   "metadata": {},
   "outputs": [],
   "source": [
    "st_viz.add_temporal_filter(temporal_name='t', temporal_unit='ms', step_ms=180000, title='Temporal Horizon')\n",
    "st_viz.show_figures(notebook=True)"
   ]
  },
  {
   "cell_type": "markdown",
   "metadata": {},
   "source": [
    "### Numerical Filters\n",
    "\n",
    "Filter the datapoints based on a numerical column, has 2 different ways to filter\n",
    "\n",
    "**Range-based:** You can filter values that fall within a specific interval."
   ]
  },
  {
   "cell_type": "code",
   "execution_count": null,
   "metadata": {},
   "outputs": [],
   "source": [
    "st_viz = st_visualizer(limit=1000) # Initialize a VISIONS Instance (ST Visualizer Object)\n",
    "st_viz.get_data_csv(filepath=r'..\\..\\data\\unipi_ais_dynamic_2017\\unipi_ais_dynamic_dec2017.csv', nrows=10000)\n",
    "\n",
    "tooltips = [('Vessel ID','@vessel_id'), ('Timestamp','@t'), ('Speed (knots)','@speed'),\n",
    "            ('Course over Ground (degrees)','@course'), ('Heading (degrees)','@heading'), ('Coordinates','(@lon, @lat)')]\n",
    "\n",
    "viz_express.plot_points_on_map(st_viz, tile_provider='CARTODBPOSITRON', tools=['lasso_select'], tooltips=tooltips)\n",
    "\n",
    "st_viz.add_numerical_filter(filter_mode='range', title='Speed (knots)', numeric_name='speed', step=1)\n",
    "st_viz.show_figures(notebook=True)"
   ]
  },
  {
   "cell_type": "markdown",
   "metadata": {},
   "source": [
    "**Threshold-based:** Apply upper/lower bound conditions. Numerical Filter (>=)"
   ]
  },
  {
   "cell_type": "code",
   "execution_count": null,
   "metadata": {},
   "outputs": [],
   "source": [
    "st_viz = st_visualizer(limit=1000) # Initialize a VISIONS Instance (ST Visualizer Object)\n",
    "st_viz.get_data_csv(filepath=r'..\\..\\data\\unipi_ais_dynamic_2017\\unipi_ais_dynamic_dec2017.csv', nrows=10000)\n",
    "\n",
    "tooltips = [('Vessel ID','@vessel_id'), ('Timestamp','@t'), ('Speed (knots)','@speed'),\n",
    "            ('Course over Ground (degrees)','@course'), ('Heading (degrees)','@heading'), ('Coordinates','(@lon, @lat)')]\n",
    "\n",
    "viz_express.plot_points_on_map(st_viz, tile_provider='CARTODBPOSITRON', tools=['lasso_select'], tooltips=tooltips)\n",
    "\n",
    "st_viz.add_numerical_filter(filter_mode='>=', title='Speed (knots) >=', numeric_name='speed', step=1)\n",
    "st_viz.show_figures(notebook=True)"
   ]
  },
  {
   "cell_type": "markdown",
   "metadata": {},
   "source": [
    "### Categorical Filter\n",
    "\n",
    "Restrict data to specific labels or groupings. "
   ]
  },
  {
   "cell_type": "code",
   "execution_count": null,
   "metadata": {},
   "outputs": [],
   "source": [
    "glife = pd.read_csv('..\\..\\data\\dummy_categorical_gdf.csv')\n",
    "glife = viz_helper.create_geometry(glife, crs='epsg:4326')\n",
    "\n",
    "st_viz = st_visualizer(limit=500)\n",
    "st_viz.set_data(glife)\n",
    "\n",
    "tooltips = [('User ID','@user_id'), ('Vehicle','@label')]\n",
    "viz_express.plot_points_on_map(st_viz, tools=['lasso_select'], tooltips=tooltips)\n",
    "\n",
    "st_viz.add_categorical_filter(title='Vehicle', categorical_name='label')\n",
    "st_viz.show_figures(notebook=True, sizing_mode='stretch_both')"
   ]
  },
  {
   "cell_type": "markdown",
   "metadata": {},
   "source": [
    "## A Note Towards Filter Interaction\n",
    "\n",
    "For webmercator, when latitudes tend to 90 deg, northing tend to infinity, so using 89.9999 is not the solution. \n",
    "The recommended area of use for EPSG:3857 is for latitudes between -85 and 85 degrees.\n",
    "Thus, we get the locations that reside anywhere but the poles."
   ]
  },
  {
   "cell_type": "code",
   "execution_count": null,
   "metadata": {},
   "outputs": [],
   "source": [
    "world_airports = pd.read_csv(r'..\\..\\data\\airports_dummy.csv')\n",
    "world_airports = viz_helper.create_geometry(world_airports, coordinate_columns=['Longitude', 'Latitude'], crs=4326)\n",
    "\n",
    "world_airports = world_airports.loc[world_airports.Latitude.between(-85, 85)].copy()\n",
    "world_airports = world_airports.loc[world_airports.Altitude >= 0].copy()"
   ]
  },
  {
   "cell_type": "code",
   "execution_count": null,
   "metadata": {},
   "outputs": [],
   "source": [
    "st_viz = st_visualizer(limit=500)\n",
    "st_viz.set_data(world_airports, sp_columns=['Longitude', 'Latitude'])\n",
    "\n",
    "tooltips = [('Name','@Name'), ('City Country','@City_Country'), ('IATA','@IATA'), ('Location','(@Longitude, @Latitude, @Altitude)'), ('Timezone', '@Timezone.1')]\n",
    "viz_express.plot_points_on_map(st_viz, size=5, tools=['hover,lasso_select'], tooltips=tooltips)\n",
    "\n",
    "st_viz.add_categorical_filter()\n",
    "st_viz.add_numerical_filter(filter_mode='>=', callback_policy='value_throttled')\n",
    "\n",
    "st_viz.figure.legend.location = \"top_left\"\n",
    "st_viz.figure.legend.click_policy = \"mute\"\n",
    "st_viz.figure.toolbar.active_scroll = st_viz.figure.select_one(bokeh_models.WheelZoomTool)\n",
    "st_viz.show_figures(notebook=True)\n"
   ]
  },
  {
   "cell_type": "markdown",
   "metadata": {},
   "source": [
    "## Loading and Cleaning a Polygon Geometry: Saronic Gulf Example\n",
    "\n",
    "The library is also capable of visualizing Polygon and Multipolygon Geometries. In this step, we load polygon data from OpenStreetMap to define the spatial extent of the Saronic Gulf region in Greece. However, the downloaded geometry includes multiple components (such as holes or nested shapes), which we simplify into a clean, unified polygon. The library's geometry handler uses shapely and has been migrated to 2.0\n",
    "\n",
    "\n",
    "\n",
    "https://shapely.readthedocs.io/en/stable/migration.html"
   ]
  },
  {
   "cell_type": "code",
   "execution_count": null,
   "metadata": {},
   "outputs": [],
   "source": [
    "url = 'http://polygons.openstreetmap.fr/get_geojson.py?id=9135811&params=0'\n",
    "saronic_gdf = gpd.read_file(url)\n",
    "\n",
    "first_polygon = list(saronic_gdf.geometry.iloc[0].geoms)[0]\n",
    "\n",
    "geom_final = shapely.geometry.Polygon(first_polygon.exterior.coords, [inner.exterior.coords for inner in list(saronic_gdf.geometry.iloc[0].geoms)[1:]])\n",
    "\n",
    "saronic_gulf = saronic_gdf.copy()\n",
    "saronic_gulf.loc[:, saronic_gulf.geometry.name] = geom_final"
   ]
  },
  {
   "cell_type": "markdown",
   "metadata": {},
   "source": [
    "### Visualizing Simple Polygons\n",
    "\n",
    "A new VISIONS instance is initialized with allow_complex_geometries=False to ensure simpler and more performant rendering. The loaded geometry is passed to the express function that fast tracks the procedure to quickly render the polygon using the 'patches' style"
   ]
  },
  {
   "cell_type": "code",
   "execution_count": null,
   "metadata": {},
   "outputs": [],
   "source": [
    "st_viz = st_visualizer(allow_complex_geometries=False)\n",
    "st_viz.set_data(saronic_gulf)\n",
    "\n",
    "viz_express.plot_polygons_on_map(st_viz, polygon_type='patches')\n",
    "st_viz.show_figures(notebook=True, sizing_mode='stretch_both')"
   ]
  },
  {
   "cell_type": "markdown",
   "metadata": {},
   "source": [
    "### Visualizing Complex Geometries\n",
    "\n",
    "In this cell, we visualize the full, complex geometry of the Saronic Gulf region — including its multiple parts (exterior and interior rings). "
   ]
  },
  {
   "cell_type": "code",
   "execution_count": null,
   "metadata": {},
   "outputs": [],
   "source": [
    "st_viz = st_visualizer(allow_complex_geometries=True)\n",
    "st_viz.set_data(saronic_gulf)\n",
    "\n",
    "viz_express.plot_polygons_on_map(st_viz, polygon_type='multi_polygons')\n",
    "st_viz.show_figures(notebook=True, sizing_mode='stretch_both')"
   ]
  },
  {
   "cell_type": "markdown",
   "metadata": {},
   "source": [
    "## Bonus: Using Custom WTSTileSources\n",
    "\n",
    "You can use your own custom tile providers for source in your visualizations. ESRI_IMAGERY Is a custom initialized `WMTSTileSource` instance and will be used to visualize the data instead of the default tile provider (CARTODBPOSITRON)"
   ]
  },
  {
   "cell_type": "code",
   "execution_count": null,
   "metadata": {},
   "outputs": [],
   "source": [
    "ESRI_IMAGERY = bokeh_models.WMTSTileSource(\n",
    "    url='https://server.arcgisonline.com/ArcGIS/rest/services/World_Imagery/MapServer/tile/{Z}/{Y}/{X}',\n",
    "    attribution=(\n",
    "        \"Tiles &copy; Esri &mdash; Source: Esri, i-cubed, USDA, USGS, AEX, \"\n",
    "        \"Getmapping, Aerogrid, IGN, IGP, UPR-EGP, and the GIS User Community\"\n",
    "    )\n",
    ")\n",
    "\n",
    "st_viz = st_visualizer(limit=5000) # Initialize a VISIONS Instance (ST Visualizer Object)\n",
    "st_viz.get_data_csv(filepath=r'..\\..\\data\\unipi_ais_dynamic_2017\\unipi_ais_dynamic_dec2017.csv', nrows=10000)\n",
    "\n",
    "tooltips = [('Vessel ID','@vessel_id'), ('Timestamp','@t'), ('Speed (knots)','@speed'),\n",
    "            ('Course over Ground (degrees)','@course'), ('Heading (degrees)','@heading'), ('Coordinates','(@lon, @lat)')]\n",
    "\n",
    "viz_express.plot_points_on_map(st_viz, tile_provider=ESRI_IMAGERY, tools=['lasso_select'], tooltips=tooltips)\n",
    "\n",
    "st_viz.show_figures(notebook=True, sizing_mode='stretch_both')\n",
    "\n"
   ]
  }
 ],
 "metadata": {
  "kernelspec": {
   "display_name": "ST_VisionsEnv",
   "language": "python",
   "name": "python3"
  },
  "language_info": {
   "codemirror_mode": {
    "name": "ipython",
    "version": 3
   },
   "file_extension": ".py",
   "mimetype": "text/x-python",
   "name": "python",
   "nbconvert_exporter": "python",
   "pygments_lexer": "ipython3",
   "version": "3.10.12"
  }
 },
 "nbformat": 4,
 "nbformat_minor": 4
}
